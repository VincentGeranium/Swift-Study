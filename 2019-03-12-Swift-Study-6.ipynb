{
 "cells": [
  {
   "cell_type": "markdown",
   "metadata": {},
   "source": [
    "#### 이 글은 FAST CAMPUS의 iOS School \"이봉원\" 강사님의 강의를 듣고 정리한 내용입니다"
   ]
  },
  {
   "cell_type": "markdown",
   "metadata": {},
   "source": [
    "# iOS School - Lecture 1"
   ]
  },
  {
   "cell_type": "markdown",
   "metadata": {},
   "source": [
    "- **주석(Comment)**\n",
    "    - // : 한 줄 주석\n",
    "    - /// : 한 줄 주석 + Quick Help Markup\n",
    "    - /* */ : 멀티 라인 주석\n",
    "\n",
    "- 주석을 쓰는 이유\n",
    "    - 1. 빠르게 특정 부분의 코드를 비활성황\n",
    "    - 2. 협업 또는 인계 시 이해를 돕기 위해\n",
    "    - 3. 자기 자신의 이해를 위해\n",
    "    - 4. 문서화\n",
    "    - **주석 없이도 쉽게 이해할 수 있을 만한 코드를 짜는 것이 베스트이자 선행 과제**"
   ]
  },
  {
   "cell_type": "markdown",
   "metadata": {},
   "source": [
    "- **Quick Help Markup??**\n",
    "\n",
    "![Error img](assets/img/quick.png)"
   ]
  },
  {
   "cell_type": "markdown",
   "metadata": {},
   "source": [
    "- **Semicolon (;)**\n",
    "    - 각 라인의 마지막에 붙는 세미콜론은 옵션\n",
    "    - 한 라인에 여러 구문(다중 명령)을 사용하고 싶을 경우는 세미콜론 필수\n",
    "    - 예시\n",
    "    \n",
    "    ```\n",
    "    print(1); print(2); print(3);\n",
    "    \n",
    "    print(1);\n",
    "    \n",
    "    print(2);\n",
    "    \n",
    "    print(3);\n",
    "    ```"
   ]
  },
  {
   "cell_type": "markdown",
   "metadata": {},
   "source": [
    "# Constants and Variables\n",
    "\n",
    "- **상수와 변수는 현재 어떤 데이터에 대한 상태값, 속성 정보 등을 담고 있는 컨테이너**\n",
    "    - **상수(Constants) : 한 번 설정되면 값 변경 불가**\n",
    "    - **변수(Variables) : 설정한 값을 변경 가능**"
   ]
  },
  {
   "cell_type": "markdown",
   "metadata": {},
   "source": [
    "```\n",
    "let yourBirthDay = 430 // 상수\n",
    "var myBirthDay = 424 // 변수\n",
    "```"
   ]
  },
  {
   "cell_type": "markdown",
   "metadata": {},
   "source": [
    "# Declare multiple constants or variables\n",
    "\n",
    "# 다중선언"
   ]
  },
  {
   "cell_type": "markdown",
   "metadata": {},
   "source": [
    "```\n",
    "var x = 0.0, y = 0.0, z = 0.0\n",
    "x = 1\n",
    "y = 2\n",
    "z = 3\n",
    "```"
   ]
  },
  {
   "cell_type": "markdown",
   "metadata": {},
   "source": [
    "# Type Annotation\n",
    "\n",
    "- **변수 선언 시 사용될 자료의 타입을 명확하게 지정하는 것**\n",
    "\n",
    "```\n",
    "let year: Int = 2019\n",
    "    \n",
    "var language: String\n",
    "language = \"Korean\"\n",
    "```"
   ]
  },
  {
   "cell_type": "markdown",
   "metadata": {},
   "source": [
    "# Type Inference\n",
    "- **변수 및 상수 선언 시 초기화로 사용되는 값의 타입을 통해 변수의 타입을 추론하여 적용하는 것**\n",
    "\n",
    "```\n",
    "let name: String = \"Jun\" // String type // Type Annotation\n",
    "\n",
    "let age: Int = 77 // Int type // Type Annotation\n",
    "    \n",
    "var weight = 73.2 // Double type // Type Inference\n",
    "\n",
    "var spelling = [\"J\", \"u\", \"n\"] // String type // Type Inference\n",
    "```"
   ]
  },
  {
   "cell_type": "markdown",
   "metadata": {},
   "source": [
    "# Literals and Types\n",
    "\n",
    "- **상수** \n",
    "    - 고정된 값(메모리 주소)을 가지는 심볼/식별자\n",
    "- **리터럴**\n",
    "    - 소스코드에서 고정된 값으로 표현되는 문자(데이터) 그 자체\n",
    "    - 정수/실수/문자/문자열/블리언 리터럴 등"
   ]
  },
  {
   "cell_type": "markdown",
   "metadata": {},
   "source": [
    "# Numeric Literals\n",
    "\n",
    "```\n",
    "var signedInteger = 123 //123 //Int type\n",
    "signedInteger = +123 //123 //Int type\n",
    "signedInteger = -123 //-123 //Int type\n",
    "\n",
    "let decimalInteger = 17 //17 //Int type\n",
    "let binaryInteger = 0b10001 //17 //Int type\n",
    "\n",
    "let octalInteger = 0o21 //17 //Int type\n",
    "let hexadecimalInteger = 0x11 //17 // Int type\n",
    "\n",
    "var bigNumber = 1_000_000_000 //1000000000 // Int type\n",
    "bigNumber = 000_001_000_000_000 //1000000000 // Int type\n",
    "```\n",
    "\n",
    "- 위의 예시에서 언더바( _ )의 용도는 큰 숫자를 가독성이 좋게 나타내기 위해서 사용\n",
    "- 언더바 앞에 숫자 0은 무시한다"
   ]
  },
  {
   "cell_type": "markdown",
   "metadata": {},
   "source": [
    "# Integer types\n",
    "- 8-bit: Int8, UInt8\n",
    "- 16-bit: Int16, UInt16\n",
    "- 32-bit: Int32, UInt32\n",
    "- 64-bit: Int64, UInt64\n",
    "- Platform dependent: Int, UInt (64-bit on modern devices)\n",
    "    - 플랫폼에 따라 Int와 UInt가 다르다, 현대 기기들은 64 bit 사용한다"
   ]
  },
  {
   "cell_type": "markdown",
   "metadata": {},
   "source": [
    "- UInt에 음수를 넣으면 overflow 오류가 뜬다\n",
    "    - UInt는 양수 범위만 표현한다\n",
    "- Int8에 127을 초과하는 숫자를 넣으면 overflow 오류가 뜬다\n",
    "    - Int8의 범위는 -128 ~ 127 이다"
   ]
  }
 ],
 "metadata": {
  "kernelspec": {
   "display_name": "Python 3",
   "language": "python",
   "name": "python3"
  },
  "language_info": {
   "codemirror_mode": {
    "name": "ipython",
    "version": 3
   },
   "file_extension": ".py",
   "mimetype": "text/x-python",
   "name": "python",
   "nbconvert_exporter": "python",
   "pygments_lexer": "ipython3",
   "version": "3.7.1"
  }
 },
 "nbformat": 4,
 "nbformat_minor": 2
}
